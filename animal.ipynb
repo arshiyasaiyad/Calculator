{
  "nbformat": 4,
  "nbformat_minor": 0,
  "metadata": {
    "colab": {
      "provenance": [],
      "authorship_tag": "ABX9TyNWSjeins8Wnl3JkVrKWR22",
      "include_colab_link": true
    },
    "kernelspec": {
      "name": "python3",
      "display_name": "Python 3"
    },
    "language_info": {
      "name": "python"
    }
  },
  "cells": [
    {
      "cell_type": "markdown",
      "metadata": {
        "id": "view-in-github",
        "colab_type": "text"
      },
      "source": [
        "<a href=\"https://colab.research.google.com/github/arshiyasaiyad/Calculator/blob/main/animal.ipynb\" target=\"_parent\"><img src=\"https://colab.research.google.com/assets/colab-badge.svg\" alt=\"Open In Colab\"/></a>"
      ]
    },
    {
      "cell_type": "code",
      "execution_count": 6,
      "metadata": {
        "colab": {
          "base_uri": "https://localhost:8080/",
          "height": 430
        },
        "id": "JodxYhUob88W",
        "outputId": "4b3b1301-e109-44c2-83a3-e1ebc54ea0d8"
      },
      "outputs": [
        {
          "output_type": "display_data",
          "data": {
            "text/plain": [
              "<Figure size 640x480 with 1 Axes>"
            ],
            "image/png": "[encoded data removed]"
          },
          "metadata": {}
        }
      ],
      "source": [
        "import numpy as np # linear algebra\n",
        "import pandas as pd # data processing, CSV file I/O (e.g. pd.read_csv)\n",
        "from sklearn.preprocessing import StandardScaler\n",
        "from sklearn.model_selection import train_test_split\n",
        "from sklearn.metrics import classification_report, confusion_matrix\n",
        "from sklearn.preprocessing import OneHotEncoder\n",
        "import seaborn as sns\n",
        "import matplotlib.pyplot as plt\n",
        "from keras.models import Sequential\n",
        "from keras.layers import Dense\n",
        "data = pd.read_csv(\"/content/zoo.csv\")\n",
        "data.head()\n",
        "sns.countplot(data.iloc[:, -1:].values.flatten())\n",
        "data.isna().sum()\n",
        "X = data.iloc[:, 1:-1].values # iloc is function for indexing of dataframes.\n",
        "Y = data.class_type.values\n"
      ]
    },
    {
      "cell_type": "code",
      "source": [
        "\n",
        "# OneHotEncoding\n",
        "encoder = OneHotEncoder() # using encoding of class_type as this is a multi class problem.\n",
        "Y = encoder.fit_transform(Y.reshape(-1,1)).toarray() # fitting our data to encoder.\n",
        "\n",
        "X, Y\n",
        "# train_test_split is a function used to split our data for training and testing purpose.\n",
        "x_train, x_test, y_train, y_test = train_test_split(X, Y, random_state=0, test_size=0.2)\n",
        "# checking if the shapes of our data is correct.\n",
        "x_train.shape, x_test.shape, y_train.shape, y_test.shape\n",
        "# creating model\n",
        "model = Sequential()\n",
        "\n",
        "# adding hidden layers with number of units and activation function.\n",
        "model.add(Dense(units = 20, activation = 'relu', input_dim = 16)) #hiddenlayer1 with and extra parameter input dimensions which is 16 in out case that is no. of features in training data.\n",
        "model.add(Dense(units = 10, activation = 'relu')) #hiddenlayer2\n",
        "model.add(Dense(units = 7, activation = 'sigmoid')) #outputlayer\n",
        "\n",
        "# compiling our model.\n",
        "model.compile(loss='categorical_crossentropy', optimizer='Adam', metrics=['accuracy']) #metrics are the list of parameters on which we test our model like accuracy.\n",
        "# fitting data to train our model and then validating score with validation_data.\n",
        "model.fit(x_train, y_train, epochs=40, batch_size=8, validation_data=(x_test, y_test))\n",
        "# printing score with evaluate\n",
        "print(model.evaluate(x_test, y_test)[1])\n",
        "y_pred_con = model.predict(x_test)\n",
        "y_pred, y_correct = [], []\n",
        "\n",
        "for i in y_test:\n",
        "    y_correct.append(np.argmax(i))\n",
        "for j in y_pred_con:\n",
        "    y_pred.append(np.argmax(j))\n",
        "\n",
        "pred_df = pd.DataFrame()\n",
        "pred_df['Pred_class'] = y_pred\n",
        "pred_df['Correct_class'] = y_correct\n",
        "pred_df\n",
        "confusion_matrix(y_pred,y_correct)"
      ],
      "metadata": {
        "colab": {
          "base_uri": "https://localhost:8080/"
        },
        "id": "2CmwT7lUc3Dz",
        "outputId": "c965e881-3323-433e-f33d-a92037896231"
      },
      "execution_count": 8,
      "outputs": [
        {
          "output_type": "stream",
          "name": "stdout",
          "text": [
            "Epoch 1/40\n",
            "10/10 [==============================] - 1s 41ms/step - loss: 1.7697 - accuracy: 0.4875 - val_loss: 1.7161 - val_accuracy: 0.4762\n",
            "Epoch 2/40\n",
            "10/10 [==============================] - 0s 8ms/step - loss: 1.6623 - accuracy: 0.4875 - val_loss: 1.6340 - val_accuracy: 0.3810\n",
            "Epoch 3/40\n",
            "10/10 [==============================] - 0s 9ms/step - loss: 1.5746 - accuracy: 0.4250 - val_loss: 1.5597 - val_accuracy: 0.3333\n",
            "Epoch 4/40\n",
            "10/10 [==============================] - 0s 9ms/step - loss: 1.4977 - accuracy: 0.4375 - val_loss: 1.4943 - val_accuracy: 0.3810\n",
            "Epoch 5/40\n",
            "10/10 [==============================] - 0s 9ms/step - loss: 1.4263 - accuracy: 0.4500 - val_loss: 1.4386 - val_accuracy: 0.3810\n",
            "Epoch 6/40\n",
            "10/10 [==============================] - 0s 7ms/step - loss: 1.3649 - accuracy: 0.4750 - val_loss: 1.3805 - val_accuracy: 0.4762\n",
            "Epoch 7/40\n",
            "10/10 [==============================] - 0s 7ms/step - loss: 1.3055 - accuracy: 0.5125 - val_loss: 1.3223 - val_accuracy: 0.5238\n",
            "Epoch 8/40\n",
            "10/10 [==============================] - 0s 9ms/step - loss: 1.2459 - accuracy: 0.5625 - val_loss: 1.2700 - val_accuracy: 0.5238\n",
            "Epoch 9/40\n",
            "10/10 [==============================] - 0s 7ms/step - loss: 1.1896 - accuracy: 0.6250 - val_loss: 1.2178 - val_accuracy: 0.5714\n",
            "Epoch 10/40\n",
            "10/10 [==============================] - 0s 9ms/step - loss: 1.1396 - accuracy: 0.6375 - val_loss: 1.1633 - val_accuracy: 0.5714\n",
            "Epoch 11/40\n",
            "10/10 [==============================] - 0s 9ms/step - loss: 1.0887 - accuracy: 0.6500 - val_loss: 1.1120 - val_accuracy: 0.6667\n",
            "Epoch 12/40\n",
            "10/10 [==============================] - 0s 9ms/step - loss: 1.0372 - accuracy: 0.6875 - val_loss: 1.0567 - val_accuracy: 0.6667\n",
            "Epoch 13/40\n",
            "10/10 [==============================] - 0s 7ms/step - loss: 0.9885 - accuracy: 0.7000 - val_loss: 1.0050 - val_accuracy: 0.8095\n",
            "Epoch 14/40\n",
            "10/10 [==============================] - 0s 9ms/step - loss: 0.9407 - accuracy: 0.7625 - val_loss: 0.9502 - val_accuracy: 0.8095\n",
            "Epoch 15/40\n",
            "10/10 [==============================] - 0s 9ms/step - loss: 0.8931 - accuracy: 0.7625 - val_loss: 0.9035 - val_accuracy: 0.8095\n",
            "Epoch 16/40\n",
            "10/10 [==============================] - 0s 7ms/step - loss: 0.8513 - accuracy: 0.7875 - val_loss: 0.8590 - val_accuracy: 0.8095\n",
            "Epoch 17/40\n",
            "10/10 [==============================] - 0s 7ms/step - loss: 0.8129 - accuracy: 0.8000 - val_loss: 0.8160 - val_accuracy: 0.8095\n",
            "Epoch 18/40\n",
            "10/10 [==============================] - 0s 7ms/step - loss: 0.7835 - accuracy: 0.8125 - val_loss: 0.7750 - val_accuracy: 0.8095\n",
            "Epoch 19/40\n",
            "10/10 [==============================] - 0s 9ms/step - loss: 0.7467 - accuracy: 0.8250 - val_loss: 0.7477 - val_accuracy: 0.9048\n",
            "Epoch 20/40\n",
            "10/10 [==============================] - 0s 9ms/step - loss: 0.7181 - accuracy: 0.8375 - val_loss: 0.7171 - val_accuracy: 0.9048\n",
            "Epoch 21/40\n",
            "10/10 [==============================] - 0s 9ms/step - loss: 0.6918 - accuracy: 0.8375 - val_loss: 0.6869 - val_accuracy: 0.9048\n",
            "Epoch 22/40\n",
            "10/10 [==============================] - 0s 9ms/step - loss: 0.6694 - accuracy: 0.8500 - val_loss: 0.6527 - val_accuracy: 0.9048\n",
            "Epoch 23/40\n",
            "10/10 [==============================] - 0s 9ms/step - loss: 0.6440 - accuracy: 0.8500 - val_loss: 0.6285 - val_accuracy: 0.9048\n",
            "Epoch 24/40\n",
            "10/10 [==============================] - 0s 9ms/step - loss: 0.6224 - accuracy: 0.8500 - val_loss: 0.6087 - val_accuracy: 0.9048\n",
            "Epoch 25/40\n",
            "10/10 [==============================] - 0s 9ms/step - loss: 0.6042 - accuracy: 0.8375 - val_loss: 0.5837 - val_accuracy: 0.8571\n",
            "Epoch 26/40\n",
            "10/10 [==============================] - 0s 9ms/step - loss: 0.5846 - accuracy: 0.8375 - val_loss: 0.5638 - val_accuracy: 0.8571\n",
            "Epoch 27/40\n",
            "10/10 [==============================] - 0s 6ms/step - loss: 0.5670 - accuracy: 0.8375 - val_loss: 0.5442 - val_accuracy: 0.8571\n",
            "Epoch 28/40\n",
            "10/10 [==============================] - 0s 7ms/step - loss: 0.5502 - accuracy: 0.8500 - val_loss: 0.5296 - val_accuracy: 0.8571\n",
            "Epoch 29/40\n",
            "10/10 [==============================] - 0s 7ms/step - loss: 0.5343 - accuracy: 0.8500 - val_loss: 0.5119 - val_accuracy: 0.8571\n",
            "Epoch 30/40\n",
            "10/10 [==============================] - 0s 7ms/step - loss: 0.5199 - accuracy: 0.8500 - val_loss: 0.4959 - val_accuracy: 0.8571\n",
            "Epoch 31/40\n",
            "10/10 [==============================] - 0s 7ms/step - loss: 0.5041 - accuracy: 0.8500 - val_loss: 0.4835 - val_accuracy: 0.8571\n",
            "Epoch 32/40\n",
            "10/10 [==============================] - 0s 7ms/step - loss: 0.4908 - accuracy: 0.8500 - val_loss: 0.4671 - val_accuracy: 0.8571\n",
            "Epoch 33/40\n",
            "10/10 [==============================] - 0s 5ms/step - loss: 0.4779 - accuracy: 0.8500 - val_loss: 0.4475 - val_accuracy: 0.8571\n",
            "Epoch 34/40\n",
            "10/10 [==============================] - 0s 7ms/step - loss: 0.4657 - accuracy: 0.8500 - val_loss: 0.4359 - val_accuracy: 0.8571\n",
            "Epoch 35/40\n",
            "10/10 [==============================] - 0s 7ms/step - loss: 0.4545 - accuracy: 0.8500 - val_loss: 0.4278 - val_accuracy: 0.8571\n",
            "Epoch 36/40\n",
            "10/10 [==============================] - 0s 7ms/step - loss: 0.4414 - accuracy: 0.8750 - val_loss: 0.4138 - val_accuracy: 0.8571\n",
            "Epoch 37/40\n",
            "10/10 [==============================] - 0s 7ms/step - loss: 0.4314 - accuracy: 0.8750 - val_loss: 0.4007 - val_accuracy: 0.8571\n",
            "Epoch 38/40\n",
            "10/10 [==============================] - 0s 5ms/step - loss: 0.4201 - accuracy: 0.8750 - val_loss: 0.3912 - val_accuracy: 0.8571\n",
            "Epoch 39/40\n",
            "10/10 [==============================] - 0s 7ms/step - loss: 0.4114 - accuracy: 0.8750 - val_loss: 0.3798 - val_accuracy: 0.8571\n",
            "Epoch 40/40\n",
            "10/10 [==============================] - 0s 6ms/step - loss: 0.4012 - accuracy: 0.8750 - val_loss: 0.3702 - val_accuracy: 0.8571\n",
            "1/1 [==============================] - 0s 27ms/step - loss: 0.3702 - accuracy: 0.8571\n",
            "0.8571428656578064\n",
            "1/1 [==============================] - 0s 84ms/step\n"
          ]
        },
        {
          "output_type": "execute_result",
          "data": {
            "text/plain": [
              "array([[7, 0, 0, 0, 0, 0],\n",
              "       [0, 4, 0, 0, 0, 0],\n",
              "       [0, 0, 5, 0, 0, 1],\n",
              "       [0, 0, 0, 0, 0, 0],\n",
              "       [0, 0, 0, 0, 1, 0],\n",
              "       [0, 0, 0, 1, 1, 1]])"
            ]
          },
          "metadata": {},
          "execution_count": 8
        }
      ]
    }
  ]
}