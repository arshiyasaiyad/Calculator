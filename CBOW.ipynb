{
  "nbformat": 4,
  "nbformat_minor": 0,
  "metadata": {
    "colab": {
      "provenance": [],
      "authorship_tag": "ABX9TyPxn3SPuQzEwlbB2KTIB0k7",
      "include_colab_link": true
    },
    "kernelspec": {
      "name": "python3",
      "display_name": "Python 3"
    },
    "language_info": {
      "name": "python"
    }
  },
  "cells": [
    {
      "cell_type": "markdown",
      "metadata": {
        "id": "view-in-github",
        "colab_type": "text"
      },
      "source": [
        "<a href=\"https://colab.research.google.com/github/arshiyasaiyad/Calculator/blob/main/CBOW.ipynb\" target=\"_parent\"><img src=\"https://colab.research.google.com/assets/colab-badge.svg\" alt=\"Open In Colab\"/></a>"
      ]
    },
    {
      "cell_type": "code",
      "execution_count": 4,
      "metadata": {
        "colab": {
          "base_uri": "https://localhost:8080/"
        },
        "id": "OWcvWOPobaiq",
        "outputId": "cef0364d-fb5d-4e89-d0a0-68c482973657"
      },
      "outputs": [
        {
          "output_type": "stream",
          "name": "stdout",
          "text": [
            "198\n",
            "103\n",
            "Model: \"sequential_1\"\n",
            "_________________________________________________________________\n",
            " Layer (type)                Output Shape              Param #   \n",
            "=================================================================\n",
            " embedding_1 (Embedding)     (None, 4, 100)            19800     \n",
            "                                                                 \n",
            " lambda_1 (Lambda)           (None, 100)               0         \n",
            "                                                                 \n",
            " dense_1 (Dense)             (None, 198)               19998     \n",
            "                                                                 \n",
            "=================================================================\n",
            "Total params: 39798 (155.46 KB)\n",
            "Trainable params: 39798 (155.46 KB)\n",
            "Non-trainable params: 0 (0.00 Byte)\n",
            "_________________________________________________________________\n",
            "Epoch  0 \t:  1041.5042796134949\n",
            "Epoch  1 \t:  989.8544821739197\n",
            "Epoch  2 \t:  899.150280714035\n",
            "Epoch  3 \t:  824.4052407741547\n",
            "Epoch  4 \t:  772.6653254032135\n",
            "Epoch  5 \t:  722.9558879137039\n",
            "Epoch  6 \t:  670.8583127260208\n",
            "Epoch  7 \t:  617.1934343576431\n",
            "Epoch  8 \t:  563.4551504850388\n",
            "Epoch  9 \t:  511.07963013648987\n"
          ]
        },
        {
          "output_type": "execute_result",
          "data": {
            "text/plain": [
              "[('–transmission', 0.8506500720977783),\n",
              " ('difference', 0.7564032077789307),\n",
              " ('number', 0.7507978081703186),\n",
              " ('driver', 0.6726295351982117),\n",
              " ('before', 0.671950101852417),\n",
              " ('reproductive', 0.6712654829025269),\n",
              " ('serial', 0.6571751236915588),\n",
              " ('appearance', 0.6363546252250671),\n",
              " ('interval', 0.6311798691749573),\n",
              " ('virus', 0.6108498573303223)]"
            ]
          },
          "metadata": {},
          "execution_count": 4
        }
      ],
      "source": [
        "import numpy as np\n",
        "import keras.backend as K #imp\n",
        "from keras.models import Sequential\n",
        "from keras.layers import Dense, Embedding, Lambda\n",
        "import tensorflow as tf\n",
        "from keras.utils import pad_sequences\n",
        "from keras.preprocessing.text import Tokenizer, text_to_word_sequence\n",
        "import gensim\n",
        "data=open(r\"/content/corona.txt\")\n",
        "data\n",
        "corona_data = [text for text in data if text.count(' ') >= 2]\n",
        "corona_data\n",
        "vectorize = Tokenizer()\n",
        "vectorize.fit_on_texts(corona_data)\n",
        "corona_data=vectorize.texts_to_sequences(corona_data)\n",
        "total_vocab = sum(len(s) for s in corona_data)\n",
        "word_count=len(vectorize.index_word)+1\n",
        "corona_data\n",
        "print(total_vocab)\n",
        "print(word_count)\n",
        "window_size = 2\n",
        "# Defining utility to generate context word pairs\n",
        "def cbow_model(data, window_size, total_vocab):\n",
        "    total_length = window_size*2\n",
        "    for text in data:\n",
        "        text_len = len(text)\n",
        "#         print(\"zero\",text)\n",
        "        for idx, word in enumerate(text):\n",
        "#             print(\"first\",idx,word)\n",
        "            context_word = []\n",
        "            target   = []\n",
        "            begin = idx - window_size\n",
        "            end = idx + window_size + 1\n",
        "            context_word.append([\n",
        "                text[i]\n",
        "                for i in range(begin, end)\n",
        "                if 0 <= i < text_len\n",
        "                and i != idx\n",
        "            ])\n",
        "            target.append(word)\n",
        "#             print(\"second\",context_word,target)\n",
        "            contextual = pad_sequences(\n",
        "                context_word,\n",
        "                maxlen=total_length\n",
        "            )\n",
        "            final_target = tf.keras.utils.to_categorical(\n",
        "                target,\n",
        "                total_vocab\n",
        "            )\n",
        "#             print(\"third\",contextual,final_target)\n",
        "            yield(contextual, final_target)\n",
        "# Defining the model architecture\n",
        "model = Sequential()\n",
        "model.add(\n",
        "    Embedding(\n",
        "        input_dim=total_vocab,\n",
        "        output_dim=100,\n",
        "        input_length=window_size*2\n",
        "    )\n",
        ")\n",
        "model.add(\n",
        "    Lambda(\n",
        "        lambda x: K.mean(x, axis=1),\n",
        "        output_shape=(100,)\n",
        "    )\n",
        ")\n",
        "model.add(\n",
        "    Dense(\n",
        "        total_vocab,\n",
        "        activation='softmax'\n",
        "    )\n",
        ")\n",
        "model.summary()\n",
        "model.compile(\n",
        "    loss='categorical_crossentropy',\n",
        "    optimizer='adam'\n",
        ")\n",
        "for i in range(10):\n",
        "    cost = 0\n",
        "    for x, y in cbow_model(corona_data, window_size, total_vocab):\n",
        "        cost += model.train_on_batch(x, y)\n",
        "    print(\"Epoch \", i,\"\\t: \", cost)\n",
        "dimensions = 100\n",
        "vect_file = open('./vectors.txt','w')\n",
        "vect_file.write('{} {}\\n'.format(102, dimensions))\n",
        "weights = model.get_weights()[0]\n",
        "for text, i in vectorize.word_index.items():\n",
        "    final_vec = ' '.join(map(str, list(weights[i, :])))\n",
        "    vect_file.write('{} {}\\n'.format(text, final_vec))\n",
        "vect_file.close()\n",
        "cbow_output = gensim.models.KeyedVectors.load_word2vec_format(\n",
        "    'vectors.txt',\n",
        "    binary=False\n",
        ")\n",
        "cbow_output.most_similar(positive=['speed'])"
      ]
    }
  ]
}